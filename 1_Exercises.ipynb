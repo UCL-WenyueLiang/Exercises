{
 "cells": [
  {
   "cell_type": "markdown",
   "id": "38e188a5",
   "metadata": {},
   "source": [
    "# Exercise 00\n",
    "Write a piece of code that allocates a list of 20 integers and initializes each element by its index multiplied by 5. Print the result."
   ]
  },
  {
   "cell_type": "code",
   "execution_count": 1,
   "id": "01aa4f35",
   "metadata": {},
   "outputs": [
    {
     "name": "stdout",
     "output_type": "stream",
     "text": [
      "[0, 5, 10, 15, 20, 25, 30, 35, 40, 45, 50, 55, 60, 65, 70, 75, 80, 85, 90, 95]\n"
     ]
    }
   ],
   "source": [
    "mylist=[]\n",
    "for x in range(20):\n",
    "    mylist.append(x*5)\n",
    "print(mylist)"
   ]
  },
  {
   "cell_type": "markdown",
   "id": "529d91ae",
   "metadata": {},
   "source": [
    "# Exercise 01\n",
    "Define a function that takes an integer as input, prints  all integers that it is divisable by, and returns the largest one."
   ]
  },
  {
   "cell_type": "code",
   "execution_count": 2,
   "id": "30e79132",
   "metadata": {},
   "outputs": [
    {
     "name": "stdout",
     "output_type": "stream",
     "text": [
      "1\n",
      "2\n",
      "3\n",
      "5\n",
      "6\n",
      "10\n",
      "15\n"
     ]
    },
    {
     "data": {
      "text/plain": [
       "15"
      ]
     },
     "execution_count": 2,
     "metadata": {},
     "output_type": "execute_result"
    }
   ],
   "source": [
    "def number_dividers(x):\n",
    "    dividers=1\n",
    "    for i in range(1,int(x/2)+1):\n",
    "        if x%i==0:\n",
    "            dividers=i\n",
    "            print(i)\n",
    "    return i\n",
    "number_dividers(30)"
   ]
  },
  {
   "cell_type": "markdown",
   "id": "cfbe30d4",
   "metadata": {},
   "source": [
    "# Exercise 02\n",
    "- create a dictionary with 6 keys and values of your choice\n",
    "- write a function that takes a dictionary and a value as input and returns whether the value occurs as a key in the dictionary\n",
    "- write a function that takes a dictionary as input, and returns the dictionary but the keys are swapped with their values (resolve the issue if a value occurs twice!)"
   ]
  },
  {
   "cell_type": "code",
   "execution_count": 3,
   "id": "2123f1c6",
   "metadata": {},
   "outputs": [
    {
     "name": "stdout",
     "output_type": "stream",
     "text": [
      "{'name': 'Wenyue Liang', 'age': '23', 'gender': 'female', 'course': 'urban design', 'email': 'ucbvwl4@ucl.ac.uk', 'location': 'London'}\n",
      "True\n"
     ]
    }
   ],
   "source": [
    "mydictionary={'name':'Wenyue Liang','age':'23','gender':'female','course':'urban design',\n",
    "             'email':'ucbvwl4@ucl.ac.uk','location':'London'}\n",
    "print(mydictionary)\n",
    "\n",
    "\n",
    "def check_mydictionary(x,y):\n",
    "    for i in x.keys():\n",
    "        if y == i:\n",
    "            return True\n",
    "    return False\n",
    "\n",
    "print(check_mydictionary(mydictionary, 'name'))"
   ]
  },
  {
   "cell_type": "code",
   "execution_count": 4,
   "id": "c058f528",
   "metadata": {},
   "outputs": [
    {
     "ename": "NameError",
     "evalue": "name 'inDictionary' is not defined",
     "output_type": "error",
     "traceback": [
      "\u001b[1;31m---------------------------------------------------------------------------\u001b[0m",
      "\u001b[1;31mNameError\u001b[0m                                 Traceback (most recent call last)",
      "Cell \u001b[1;32mIn[4], line 12\u001b[0m\n\u001b[0;32m     10\u001b[0m             newDict[oldDic[k]]\u001b[38;5;241m=\u001b[39mk\n\u001b[0;32m     11\u001b[0m     \u001b[38;5;28;01mreturn\u001b[39;00m newDict\n\u001b[1;32m---> 12\u001b[0m swapDictionary(my_dict)\n",
      "Cell \u001b[1;32mIn[4], line 5\u001b[0m, in \u001b[0;36mswapDictionary\u001b[1;34m(oldDic)\u001b[0m\n\u001b[0;32m      3\u001b[0m newDict \u001b[38;5;241m=\u001b[39m {}\n\u001b[0;32m      4\u001b[0m \u001b[38;5;28;01mfor\u001b[39;00m k \u001b[38;5;129;01min\u001b[39;00m oldDic\u001b[38;5;241m.\u001b[39mkeys():\n\u001b[1;32m----> 5\u001b[0m     \u001b[38;5;28;01mif\u001b[39;00m inDictionary(newDict,oldDic[k]):\n\u001b[0;32m      6\u001b[0m         cv \u001b[38;5;241m=\u001b[39m newDict[oldDic[k]]\n\u001b[0;32m      7\u001b[0m         nv \u001b[38;5;241m=\u001b[39m [cv, k]\n",
      "\u001b[1;31mNameError\u001b[0m: name 'inDictionary' is not defined"
     ]
    }
   ],
   "source": [
    "my_dict = {'a':1, 'b':2, 'c':3, 'd':2}\n",
    "def swapDictionary(oldDic):\n",
    "    newDict = {}\n",
    "    for k in oldDic.keys():\n",
    "        if inDictionary(newDict,oldDic[k]):\n",
    "            cv = newDict[oldDic[k]]\n",
    "            nv = [cv, k]\n",
    "            newDict[oldDic[k]]=nv\n",
    "        else:\n",
    "            newDict[oldDic[k]]=k\n",
    "    return newDict\n",
    "swapDictionary(my_dict)"
   ]
  },
  {
   "cell_type": "markdown",
   "id": "b4b4e426",
   "metadata": {},
   "source": [
    "# Exercise 03\n",
    "Define a function that creates a dictionary of the first n fibonacci numbers as values paired with their indices as keys. "
   ]
  },
  {
   "cell_type": "code",
   "execution_count": 5,
   "id": "7845b5a4",
   "metadata": {},
   "outputs": [
    {
     "data": {
      "text/plain": [
       "{1: 1,\n",
       " 2: 1,\n",
       " 3: 2,\n",
       " 4: 3,\n",
       " 5: 5,\n",
       " 6: 8,\n",
       " 7: 13,\n",
       " 8: 21,\n",
       " 9: 34,\n",
       " 10: 55,\n",
       " 11: 89,\n",
       " 12: 144,\n",
       " 13: 233,\n",
       " 14: 377,\n",
       " 15: 610,\n",
       " 16: 987,\n",
       " 17: 1597,\n",
       " 18: 2584,\n",
       " 19: 4181,\n",
       " 20: 6765}"
      ]
     },
     "execution_count": 5,
     "metadata": {},
     "output_type": "execute_result"
    }
   ],
   "source": [
    "def fibonacciDictionary(n):\n",
    "    fibonacci={}\n",
    "    x1=0\n",
    "    x2=1\n",
    "    for i in range(1,n+1):\n",
    "        fibonacci[i]=x2\n",
    "        t=x1+x2\n",
    "        x1=x2\n",
    "        x2=t\n",
    "    return fibonacci\n",
    "fibonacciDictionary(20)"
   ]
  }
 ],
 "metadata": {
  "kernelspec": {
   "display_name": "Python 3 (ipykernel)",
   "language": "python",
   "name": "python3"
  },
  "language_info": {
   "codemirror_mode": {
    "name": "ipython",
    "version": 3
   },
   "file_extension": ".py",
   "mimetype": "text/x-python",
   "name": "python",
   "nbconvert_exporter": "python",
   "pygments_lexer": "ipython3",
   "version": "3.11.5"
  }
 },
 "nbformat": 4,
 "nbformat_minor": 5
}
