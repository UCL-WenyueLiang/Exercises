{
 "cells": [
  {
   "cell_type": "code",
   "execution_count": 23,
   "id": "124b35b7",
   "metadata": {},
   "outputs": [
    {
     "name": "stdout",
     "output_type": "stream",
     "text": [
      "3.4\n",
      "the number is positive\n"
     ]
    }
   ],
   "source": [
    "number=float(input())\n",
    "if number>0:\n",
    "    print('the number is positive')\n",
    "elif number<0:\n",
    "    print('the number is negative')\n",
    "else:\n",
    "    print('the number is zero')\n"
   ]
  }
 ],
 "metadata": {
  "kernelspec": {
   "display_name": "Python 3 (ipykernel)",
   "language": "python",
   "name": "python3"
  },
  "language_info": {
   "codemirror_mode": {
    "name": "ipython",
    "version": 3
   },
   "file_extension": ".py",
   "mimetype": "text/x-python",
   "name": "python",
   "nbconvert_exporter": "python",
   "pygments_lexer": "ipython3",
   "version": "3.11.5"
  }
 },
 "nbformat": 4,
 "nbformat_minor": 5
}
