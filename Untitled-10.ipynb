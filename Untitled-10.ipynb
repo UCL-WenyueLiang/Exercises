{
 "cells": [
  {
   "cell_type": "code",
   "execution_count": 4,
   "id": "4d457644",
   "metadata": {},
   "outputs": [
    {
     "name": "stdout",
     "output_type": "stream",
     "text": [
      "40\n",
      "1\n",
      "1\n",
      "1\n",
      "2\n",
      "2\n",
      "3\n",
      "4\n",
      "5\n",
      "7\n",
      "9\n",
      "12\n",
      "16\n",
      "21\n",
      "28\n",
      "37\n",
      "49\n",
      "65\n",
      "86\n",
      "114\n",
      "151\n",
      "200\n",
      "265\n",
      "351\n",
      "465\n",
      "616\n",
      "816\n",
      "1081\n",
      "1432\n",
      "1897\n",
      "2513\n",
      "3329\n",
      "4410\n",
      "5842\n",
      "7739\n",
      "10252\n",
      "13581\n",
      "17991\n",
      "23833\n",
      "31572\n",
      "41824\n"
     ]
    }
   ],
   "source": [
    "p0 = 1\n",
    "p1 = 1\n",
    "p2 = 1\n",
    "n = int(input())\n",
    "for i in range(n):\n",
    "    print(p0)\n",
    "    m=p0+p1\n",
    "    p0=p1\n",
    "    p1=p2\n",
    "    p2=m\n",
    "\n"
   ]
  }
 ],
 "metadata": {
  "kernelspec": {
   "display_name": "Python 3 (ipykernel)",
   "language": "python",
   "name": "python3"
  },
  "language_info": {
   "codemirror_mode": {
    "name": "ipython",
    "version": 3
   },
   "file_extension": ".py",
   "mimetype": "text/x-python",
   "name": "python",
   "nbconvert_exporter": "python",
   "pygments_lexer": "ipython3",
   "version": "3.11.5"
  }
 },
 "nbformat": 4,
 "nbformat_minor": 5
}
