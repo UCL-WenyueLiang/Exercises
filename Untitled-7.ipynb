{
 "cells": [
  {
   "cell_type": "code",
   "execution_count": 2,
   "id": "d03d5688",
   "metadata": {
    "scrolled": true
   },
   "outputs": [
    {
     "name": "stdout",
     "output_type": "stream",
     "text": [
      "15\n",
      "12\n",
      "24\n",
      "15\n",
      "Congratulations, you guessed it!\n"
     ]
    }
   ],
   "source": [
    "import random\n",
    "x=random.randint(1,20)\n",
    "print(x)\n",
    "y=int(input())\n",
    "while not y==x:\n",
    "    y=int(input())\n",
    "print('Congratulations, you guessed it!')\n",
    "\n"
   ]
  },
  {
   "cell_type": "code",
   "execution_count": 8,
   "id": "da898d9f",
   "metadata": {},
   "outputs": [
    {
     "name": "stdout",
     "output_type": "stream",
     "text": [
      "Give a lower bound:2\n",
      "Give a upper bound:5\n",
      "3\n",
      "4\n",
      "5\n",
      "Guess 3 times\n",
      "Congratulations,you guessed it!\n"
     ]
    }
   ],
   "source": [
    "import random\n",
    "lower=int(input('Give a lower bound:'))\n",
    "upper=int(input('Give a upper bound:'))\n",
    "random_number=random.randint(lower,upper)\n",
    "guessed_number=int(input())\n",
    "count=1\n",
    "while not random_number==guessed_number:\n",
    "    guessed_number=int(input())\n",
    "    count+=1\n",
    "print(\"Guess {:d} times\".format(count))\n",
    "print(\"Congratulations,you guessed it!\")\n",
    "    "
   ]
  },
  {
   "cell_type": "code",
   "execution_count": null,
   "id": "5de2789d",
   "metadata": {},
   "outputs": [],
   "source": []
  }
 ],
 "metadata": {
  "kernelspec": {
   "display_name": "Python 3 (ipykernel)",
   "language": "python",
   "name": "python3"
  },
  "language_info": {
   "codemirror_mode": {
    "name": "ipython",
    "version": 3
   },
   "file_extension": ".py",
   "mimetype": "text/x-python",
   "name": "python",
   "nbconvert_exporter": "python",
   "pygments_lexer": "ipython3",
   "version": "3.11.5"
  }
 },
 "nbformat": 4,
 "nbformat_minor": 5
}
