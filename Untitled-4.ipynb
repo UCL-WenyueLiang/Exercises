{
 "cells": [
  {
   "cell_type": "code",
   "execution_count": 15,
   "id": "02c9329b",
   "metadata": {},
   "outputs": [
    {
     "name": "stdout",
     "output_type": "stream",
     "text": [
      "-0.34202014332566866\n",
      "-0.1736481776669303\n",
      "0.9999999999999999\n"
     ]
    }
   ],
   "source": [
    "from math import *\n",
    "print(sin(radians(200)))\n",
    "print(cos(radians(100)))\n",
    "print(tan(pi/4))"
   ]
  },
  {
   "cell_type": "code",
   "execution_count": 25,
   "id": "0308acb2",
   "metadata": {},
   "outputs": [
    {
     "name": "stdout",
     "output_type": "stream",
     "text": [
      "-0.34202014332566866\n",
      "-0.1736481776669303\n",
      "0.9999999999999999\n"
     ]
    }
   ],
   "source": [
    "import math\n",
    "print(sin(radians(200)))\n",
    "print(cos(radians(100)))\n",
    "print(tan(pi/4))"
   ]
  }
 ],
 "metadata": {
  "kernelspec": {
   "display_name": "Python 3 (ipykernel)",
   "language": "python",
   "name": "python3"
  },
  "language_info": {
   "codemirror_mode": {
    "name": "ipython",
    "version": 3
   },
   "file_extension": ".py",
   "mimetype": "text/x-python",
   "name": "python",
   "nbconvert_exporter": "python",
   "pygments_lexer": "ipython3",
   "version": "3.11.5"
  }
 },
 "nbformat": 4,
 "nbformat_minor": 5
}
